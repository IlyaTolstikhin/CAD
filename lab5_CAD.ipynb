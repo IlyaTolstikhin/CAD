{
  "nbformat": 4,
  "nbformat_minor": 0,
  "metadata": {
    "colab": {
      "provenance": []
    },
    "kernelspec": {
      "name": "python3",
      "display_name": "Python 3"
    },
    "language_info": {
      "name": "python"
    }
  },
  "cells": [
    {
      "cell_type": "code",
      "execution_count": null,
      "metadata": {
        "colab": {
          "base_uri": "https://localhost:8080/"
        },
        "id": "tLg9hb_NiY6b",
        "outputId": "767db459-35cc-4333-ab03-93d234640bef"
      },
      "outputs": [
        {
          "output_type": "stream",
          "name": "stdout",
          "text": [
            "Выборочное среднее 0.036664529191855644\n",
            "Оценка среднеквадратического отклонения 0.9400688318915064\n"
          ]
        }
      ],
      "source": [
        "import numpy as np\n",
        "import matplotlib.pyplot as plt\n",
        "import scipy.stats as sts\n",
        "import math\n",
        " \n",
        "n = 400\n",
        "a = 0.025\n",
        "x = np.random.normal(0, 1, n)\n",
        "m = np.mean(x)\n",
        "d = np.std(x, ddof=1)\n",
        " \n",
        "print('Выборочное среднее', m)\n",
        "print('Оценка среднеквадратического отклонения', d)"
      ]
    },
    {
      "cell_type": "code",
      "source": [
        "k = math.floor(1.72 * (n ** (1/3)))\n",
        "Nemp = plt.hist(x, bins = k)[0]\n",
        "emp = plt.hist(x, bins = k)[1]\n",
        "plt.show()"
      ],
      "metadata": {
        "colab": {
          "base_uri": "https://localhost:8080/",
          "height": 265
        },
        "id": "qU7hjNP-kLiN",
        "outputId": "e34ef864-2733-49cc-e0d9-8a9a0ce0e152"
      },
      "execution_count": null,
      "outputs": [
        {
          "output_type": "display_data",
          "data": {
            "text/plain": [
              "<Figure size 432x288 with 1 Axes>"
            ],
            "image/png": "[encoded data removed]"
          },
          "metadata": {
            "needs_background": "light"
          }
        }
      ]
    },
    {
      "cell_type": "code",
      "source": [
        "z = np.zeros(k)\n",
        "for i in range(k):\n",
        "  z[i] = (emp[i] - m)/d\n",
        "p = np.zeros(k-1)\n",
        "Ntheory = np.zeros(k-1)\n",
        "for i in range(k-1):\n",
        "  p[i] = sts.norm.cdf(z[i+1]) - sts.norm.cdf(z[i])\n",
        "  Ntheory[i] = n * p[i]"
      ],
      "metadata": {
        "id": "MWfOFPGLlc4p"
      },
      "execution_count": null,
      "outputs": []
    },
    {
      "cell_type": "code",
      "source": [
        "print(p)"
      ],
      "metadata": {
        "colab": {
          "base_uri": "https://localhost:8080/"
        },
        "id": "bqjOU0a1na2d",
        "outputId": "544c244c-9a90-4894-fa10-08a1d82d69f7"
      },
      "execution_count": null,
      "outputs": [
        {
          "output_type": "stream",
          "name": "stdout",
          "text": [
            "[0.01335113 0.03840328 0.08530024 0.14632348 0.19386276 0.19838546\n",
            " 0.15680571 0.09572713 0.04513333 0.01643241 0.0046194 ]\n"
          ]
        }
      ]
    },
    {
      "cell_type": "code",
      "source": [
        "bord = sts.chi2.ppf(1-a, k-3)\n",
        "chi2 = 0\n",
        "for i in range (k-1):\n",
        "  chi2 += (Nemp[i] - Ntheory[i])**2 / Ntheory[i]\n",
        " \n",
        "print('Значение статистики:', chi2) \n",
        "print('Критическое значение:', bord)\n",
        " \n",
        "if bord >= chi2:\n",
        "  print('Гипотеза о нормальности ПРИНИМАЕТСЯ на уровне значимости', a)\n",
        "else:\n",
        "  print('Гипотеза о нормальности ОТВЕРГАЕТСЯ на уровне значимости', a)\n"
      ],
      "metadata": {
        "colab": {
          "base_uri": "https://localhost:8080/"
        },
        "id": "5xmUaOrzvsUh",
        "outputId": "71c6a788-54eb-469d-9052-2cb138b3b15e"
      },
      "execution_count": null,
      "outputs": [
        {
          "output_type": "stream",
          "name": "stdout",
          "text": [
            "Значение статистики: 10.383355949385678\n",
            "Критическое значение: 19.02276779864163\n",
            "Гипотеза о нормальности ПРИНИМАЕТСЯ на уровне значимости 0.025\n"
          ]
        }
      ]
    }
  ]
}